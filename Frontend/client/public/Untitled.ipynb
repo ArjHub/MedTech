{
 "cells": [
  {
   "cell_type": "code",
   "execution_count": 2,
   "id": "4b442af7",
   "metadata": {},
   "outputs": [],
   "source": [
    "import pandas as pd\n",
    "\n",
    "# Load the CSV file into a DataFrame\n",
    "df = pd.read_csv('./drug_effect.csv')\n",
    "\n",
    "# Convert all string columns to lowercase\n",
    "df = df.applymap(lambda x: x.lower() if isinstance(x, str) else x)\n",
    "\n",
    "# Remove duplicate rows\n",
    "df = df.drop_duplicates()\n",
    "\n",
    "# Save the modified DataFrame back to a CSV file\n",
    "df.to_csv('output_file.csv', index=False)\n"
   ]
  },
  {
   "cell_type": "code",
   "execution_count": 3,
   "id": "9b516edc",
   "metadata": {},
   "outputs": [
    {
     "data": {
      "text/html": [
       "<div>\n",
       "<style scoped>\n",
       "    .dataframe tbody tr th:only-of-type {\n",
       "        vertical-align: middle;\n",
       "    }\n",
       "\n",
       "    .dataframe tbody tr th {\n",
       "        vertical-align: top;\n",
       "    }\n",
       "\n",
       "    .dataframe thead th {\n",
       "        text-align: right;\n",
       "    }\n",
       "</style>\n",
       "<table border=\"1\" class=\"dataframe\">\n",
       "  <thead>\n",
       "    <tr style=\"text-align: right;\">\n",
       "      <th></th>\n",
       "      <th>drug</th>\n",
       "      <th>effect</th>\n",
       "    </tr>\n",
       "  </thead>\n",
       "  <tbody>\n",
       "    <tr>\n",
       "      <th>0</th>\n",
       "      <td>azithromycin</td>\n",
       "      <td>ototoxicity</td>\n",
       "    </tr>\n",
       "    <tr>\n",
       "      <th>1</th>\n",
       "      <td>dihydrotachysterol</td>\n",
       "      <td>increased calcium-release</td>\n",
       "    </tr>\n",
       "    <tr>\n",
       "      <th>2</th>\n",
       "      <td>dihydrotachysterol</td>\n",
       "      <td>hypercalcemia</td>\n",
       "    </tr>\n",
       "    <tr>\n",
       "      <th>3</th>\n",
       "      <td>naproxen</td>\n",
       "      <td>pseudoporphyria</td>\n",
       "    </tr>\n",
       "    <tr>\n",
       "      <th>4</th>\n",
       "      <td>oxaprozin</td>\n",
       "      <td>pseudoporphyria</td>\n",
       "    </tr>\n",
       "  </tbody>\n",
       "</table>\n",
       "</div>"
      ],
      "text/plain": [
       "                 drug                     effect\n",
       "0        azithromycin                ototoxicity\n",
       "1  dihydrotachysterol  increased calcium-release\n",
       "2  dihydrotachysterol              hypercalcemia\n",
       "3            naproxen            pseudoporphyria\n",
       "4           oxaprozin            pseudoporphyria"
      ]
     },
     "execution_count": 3,
     "metadata": {},
     "output_type": "execute_result"
    }
   ],
   "source": [
    "df.head()"
   ]
  },
  {
   "cell_type": "code",
   "execution_count": 1,
   "id": "6f4ee0f5",
   "metadata": {},
   "outputs": [],
   "source": [
    "import csv\n",
    "\n",
    "with open('./drug_interaction.csv', 'r') as csv_in_file:\n",
    "    csv_reader = csv.reader(csv_in_file)\n",
    "    next(csv_reader)  # Skip the header\n",
    "\n",
    "    with open('./new_drug_interaction.csv', 'w', newline='') as csv_out_file:\n",
    "        csv_writer = csv.writer(csv_out_file)\n",
    "        csv_writer.writerow(['Drug_Name', 'Interaction'])  # Write the header\n",
    "\n",
    "        for row in csv_reader:\n",
    "            drug_name = row[0]\n",
    "            interactions = row[1].split(', ')\n",
    "            for interaction in interactions:\n",
    "                csv_writer.writerow([drug_name, interaction])"
   ]
  },
  {
   "cell_type": "code",
   "execution_count": 2,
   "id": "a8a60c2e",
   "metadata": {},
   "outputs": [
    {
     "name": "stdout",
     "output_type": "stream",
     "text": [
      "CSV file has been reversed and saved to output.csv\n"
     ]
    }
   ],
   "source": [
    "import csv\n",
    "\n",
    "# Input and output file paths\n",
    "input_file = './new_drug_interaction.csv'\n",
    "output_file = './output.csv'\n",
    "\n",
    "# Read the CSV file and reverse the columns\n",
    "with open(input_file, 'r', newline='') as f_input:\n",
    "    csv_reader = csv.reader(f_input)\n",
    "    header = next(csv_reader)  # Read the header\n",
    "    reversed_rows = [(row[1], row[0]) for row in csv_reader]\n",
    "\n",
    "# Write the reversed rows to a new CSV file\n",
    "with open(output_file, 'w', newline='') as f_output:\n",
    "    csv_writer = csv.writer(f_output)\n",
    "    csv_writer.writerow(['Interaction', 'Drug_Name'])  # Write header\n",
    "    csv_writer.writerows(reversed_rows)\n",
    "    \n",
    "print(\"CSV file has been reversed and saved to output.csv\")\n"
   ]
  },
  {
   "cell_type": "code",
   "execution_count": null,
   "id": "16081fc3",
   "metadata": {},
   "outputs": [],
   "source": []
  }
 ],
 "metadata": {
  "kernelspec": {
   "display_name": "Python 3 (ipykernel)",
   "language": "python",
   "name": "python3"
  },
  "language_info": {
   "codemirror_mode": {
    "name": "ipython",
    "version": 3
   },
   "file_extension": ".py",
   "mimetype": "text/x-python",
   "name": "python",
   "nbconvert_exporter": "python",
   "pygments_lexer": "ipython3",
   "version": "3.12.1"
  }
 },
 "nbformat": 4,
 "nbformat_minor": 5
}
