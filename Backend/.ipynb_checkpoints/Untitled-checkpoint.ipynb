{
 "cells": [
  {
   "cell_type": "code",
   "execution_count": 12,
   "id": "0ec434bf",
   "metadata": {
    "scrolled": false
   },
   "outputs": [
    {
     "data": {
      "text/plain": [
       "'\\ndef predict(text):\\n    inputs = tokenizer(text, return_tensors=\"pt\", padding=True, truncation=True)\\n    with torch.no_grad():\\n        outputs = model(**inputs)\\n    logits = outputs.logits\\n    predicted_class_indices = logits.argmax(dim=-1)\\n    predicted_labels = [model.config.id2label[i] for i in predicted_class_indices[0].tolist()]\\n    return predicted_labels\\n\\ntext = \"Hello, My name is Arjun. I am suffering from a slight shoulder dislocation\"\\npredictions = predict(text)'"
      ]
     },
     "execution_count": 12,
     "metadata": {},
     "output_type": "execute_result"
    }
   ],
   "source": [
    "import pandas as pd\n",
    "from transformers import AutoTokenizer, AutoModelForTokenClassification\n",
    "import torch\n",
    "\n",
    "tokenizer = AutoTokenizer.from_pretrained(\"d4data/biomedical-ner-all\")\n",
    "model = AutoModelForTokenClassification.from_pretrained(\"d4data/biomedical-ner-all\")\n",
    "\"\"\"\n",
    "def predict(text):\n",
    "    inputs = tokenizer(text, return_tensors=\"pt\", padding=True, truncation=True)\n",
    "    with torch.no_grad():\n",
    "        outputs = model(**inputs)\n",
    "    logits = outputs.logits\n",
    "    predicted_class_indices = logits.argmax(dim=-1)\n",
    "    predicted_labels = [model.config.id2label[i] for i in predicted_class_indices[0].tolist()]\n",
    "    return predicted_labels\n",
    "\n",
    "text = \"Hello, My name is Arjun. I am suffering from a slight shoulder dislocation\"\n",
    "predictions = predict(text)\"\"\"\n"
   ]
  },
  {
   "cell_type": "code",
   "execution_count": 19,
   "id": "6c1830e8",
   "metadata": {},
   "outputs": [
    {
     "name": "stdout",
     "output_type": "stream",
     "text": [
      "- year - old woman - \"Age\"\n",
      "with - \"Sex\"\n",
      "known cardiac history presented - \"History\"\n",
      "with - \"Clinical_event\"\n",
      "onset of - \"Detailed_description\"\n",
      "##ys - \"Sign_symptom\"\n",
      "##p ##nea requiring - \"Sign_symptom\"\n",
      "##uba ##tion and - \"Therapeutic_procedure\"\n",
      "##ila ##tory support out - \"Therapeutic_procedure\"\n",
      "discomfort - \"Biological_structure\"\n",
      "##pit ##ations - \"Sign_symptom\"\n",
      "##ope or - \"Sign_symptom\"\n",
      "##eb ##ril - \"Sign_symptom\"\n",
      "##e and - \"Sign_symptom\"\n",
      "##ote - \"Detailed_description\"\n",
      "##us ta - \"Detailed_description\"\n",
      "##chy - \"Sign_symptom\"\n",
      "##card - \"Sign_symptom\"\n",
      "##ia of - \"Sign_symptom\"\n",
      "beats / min - \"Lab_value\"\n",
      "None\n"
     ]
    }
   ],
   "source": [
    "import pickle\n",
    "\n",
    "# Assuming you have trained your model and named it 'model'\n",
    "filename = 'biomedical_ner_model.sav'\n",
    "pickle.dump(model, open(filename, 'wb'))\n",
    "loaded_model = pickle.load(open(filename, 'rb'))\n",
    "def predict(text):\n",
    "    inputs = tokenizer(text, return_tensors=\"pt\", padding=True, truncation=True)\n",
    "    with torch.no_grad():\n",
    "        outputs = model(**inputs)\n",
    "    logits = outputs.logits\n",
    "    predicted_class_indices = logits.argmax(dim=-1)\n",
    "    predicted_labels = [model.config.id2label[i] for i in predicted_class_indices[0].tolist()]\n",
    "\n",
    "    # Initialize variables to store the current word and its NER tag\n",
    "    current_word = \"\"\n",
    "    current_ner_tag = \"\"\n",
    "\n",
    "    # Tokenize the input text\n",
    "    tokenized_text = tokenizer.tokenize(text)\n",
    "\n",
    "    # Iterate through tokens and NER tags\n",
    "    for token, ner_tag in zip(tokenized_text, predicted_labels):\n",
    "        if ner_tag.startswith(\"B-\"):\n",
    "            # If it's the beginning of a new entity, print the previous word and its NER tag\n",
    "            if current_word:\n",
    "                print(f\"{current_word} - \\\"{current_ner_tag[2:]}\\\"\")\n",
    "            current_word = token\n",
    "            current_ner_tag = ner_tag\n",
    "        elif ner_tag.startswith(\"I-\"):\n",
    "            # If it's inside an entity, append to the current word\n",
    "            current_word += \" \" + token\n",
    "        else:\n",
    "            # If it's outside an entity, print the previous word and its NER tag\n",
    "            if current_word:\n",
    "                print(f\"{current_word} - \\\"{current_ner_tag[2:]}\\\"\")\n",
    "                current_word = \"\"\n",
    "                current_ner_tag = \"\"\n",
    "\n",
    "    # Print the last word if there's any\n",
    "    if current_word:\n",
    "        print(f\"{current_word} - \\\"{current_ner_tag[2:]}\\\"\")\n",
    "\n",
    "# Example usage\n",
    "new_text = \"A 63-year-old woman with no known cardiac history presented with a sudden onset of dyspnea requiring intubation and ventilatory support out of hospital. She denied preceding symptoms of chest discomfort, palpitations, syncope or infection. The patient was afebrile and normotensive, with a sinus tachycardia of 140 beats/min.\"\n",
    "new_predictions = predict(new_text)\n",
    "print(new_predictions)\n"
   ]
  },
  {
   "cell_type": "code",
   "execution_count": null,
   "id": "bf9265e1",
   "metadata": {},
   "outputs": [],
   "source": [
    "import pickle\n",
    "\n",
    "filename = 'biomedical_ner_model.sav'\n",
    "pickle.dump(model, open(filename, 'wb'))\n",
    "loaded_model = pickle.load(open(filename, 'rb'))\n",
    "def predict(text):\n",
    "    inputs = tokenizer(text, return_tensors=\"pt\", padding=True, truncation=True)\n",
    "    with torch.no_grad():\n",
    "        outputs = model(**inputs)\n",
    "    logits = outputs.logits\n",
    "    predicted_class_indices = logits.argmax(dim=-1)\n",
    "    predicted_labels = [model.config.id2label[i] for i in predicted_class_indices[0].tolist()]\n",
    "\n",
    "    current_word = \"\"\n",
    "    current_ner_tag = \"\"\n",
    "\n",
    "    tokenized_text = tokenizer.tokenize(text)\n",
    "    for token, ner_tag in zip(tokenized_text, predicted_labels):\n",
    "        if ner_tag.startswith(\"B-\"):\n",
    "            if current_word and current_ner_tag[2:] in [\"Disease_disorder\", \"Sign_symptom\"]:\n",
    "                print(f\"{current_word} - \\\"{current_ner_tag[2:]}\\\"\")\n",
    "            current_word = token\n",
    "            current_ner_tag = ner_tag\n",
    "        elif ner_tag.startswith(\"I-\"):\n",
    "            current_word += \" \" + token\n",
    "        else:\n",
    "            if current_word and current_ner_tag[2:] in [\"Disease_disorder\", \"Sign_symptom\"]:\n",
    "                print(f\"{current_word} - \\\"{current_ner_tag[2:]}\\\"\")\n",
    "                current_word = \"\"\n",
    "                current_ner_tag = \"\"\n",
    "\n",
    "    if current_word and current_ner_tag[2:] in [\"Disease_disorder\", \"Sign_symptom\"]:\n",
    "        print(f\"{current_word} - \\\"{current_ner_tag[2:]}\\\"\")\n",
    "\n",
    "new_text = \"A 63-year-old woman with no known cardiac history presented with a sudden onset of dyspnea requiring intubation and ventilatory support out of hospital. She denied preceding symptoms of chest discomfort, palpitations, syncope or infection. The patient was afebrile and normotensive, with a sinus tachycardia of 140 beats/min.\"\n",
    "new_predictions = predict(new_text)\n",
    "print(new_predictions)\n"
   ]
  }
 ],
 "metadata": {
  "kernelspec": {
   "display_name": "Python 3 (ipykernel)",
   "language": "python",
   "name": "python3"
  },
  "language_info": {
   "codemirror_mode": {
    "name": "ipython",
    "version": 3
   },
   "file_extension": ".py",
   "mimetype": "text/x-python",
   "name": "python",
   "nbconvert_exporter": "python",
   "pygments_lexer": "ipython3",
   "version": "3.9.16"
  }
 },
 "nbformat": 4,
 "nbformat_minor": 5
}
